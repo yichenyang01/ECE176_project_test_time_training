{
 "cells": [
  {
   "cell_type": "code",
   "execution_count": 1,
   "id": "a61d505a",
   "metadata": {},
   "outputs": [],
   "source": [
    "# Prepare packages\n",
    "import numpy as np\n",
    "import cv2\n",
    "import matplotlib.pyplot as plt\n",
    "import idx2numpy\n",
    "import os\n",
    "\n",
    "import torch\n",
    "import torchvision\n",
    "import torchvision.datasets as datasets\n",
    "import torchvision.transforms as transforms\n",
    "import torch.nn as nn\n",
    "import torch.nn.functional as F\n",
    "import torch.optim as optim\n",
    "from torch.utils.data import Dataset, DataLoader\n",
    "from torchsummary import summary"
   ]
  },
  {
   "cell_type": "code",
   "execution_count": 2,
   "id": "f78cffa8",
   "metadata": {},
   "outputs": [],
   "source": [
    "# Define the device to be used for training\n",
    "device = torch.device(\"cuda\" if torch.cuda.is_available() else \"cpu\")"
   ]
  },
  {
   "cell_type": "code",
   "execution_count": 3,
   "id": "16745ecd",
   "metadata": {},
   "outputs": [],
   "source": [
    "# Prepare data\n",
    "# Hyperparameters\n",
    "num_epochs = 10\n",
    "batch_size = 100\n",
    "learning_rate = 0.001\n",
    "\n",
    "# Dataset\n",
    "train_dataset = torchvision.datasets.CIFAR10(root='../datasets', train=True, \n",
    "                                             transform=transforms.ToTensor())\n",
    "test_dataset = torchvision.datasets.CIFAR10(root='../datasets', train=False, \n",
    "                                            transform=transforms.ToTensor())\n",
    "\n",
    "# Data loader\n",
    "train_loader = torch.utils.data.DataLoader(dataset=train_dataset, \n",
    "                                           batch_size=batch_size, shuffle=True)\n",
    "test_loader = torch.utils.data.DataLoader(dataset=test_dataset, \n",
    "                                          batch_size=batch_size, shuffle=False)"
   ]
  },
  {
   "cell_type": "code",
   "execution_count": 4,
   "id": "2d01f932",
   "metadata": {},
   "outputs": [],
   "source": [
    "# Convolutional neural network (CNN) model\n",
    "class CNN(nn.Module):\n",
    "    def __init__(self):\n",
    "        super(CNN, self).__init__()\n",
    "        self.conv1 = nn.Conv2d(3, 32, 5)\n",
    "        self.pool = nn.MaxPool2d(2, 2)\n",
    "        self.conv2 = nn.Conv2d(32, 64, 5)\n",
    "        self.fc1 = nn.Linear(64 * 5 * 5, 1024)\n",
    "        self.fc2 = nn.Linear(1024, 10)\n",
    "        self.dropout = nn.Dropout(p=0.5)\n",
    "        \n",
    "    def forward(self, x):\n",
    "        x = self.pool(nn.functional.relu(self.conv1(x)))\n",
    "        x = self.pool(nn.functional.relu(self.conv2(x)))\n",
    "        x = x.view(-1, 64 * 5 * 5)\n",
    "        x = nn.functional.relu(self.fc1(x))\n",
    "        x = self.dropout(x)\n",
    "        x = self.fc2(x)\n",
    "        return x\n",
    "    \n",
    "\n",
    "# Define my dataset\n",
    "class MyDataset(Dataset):\n",
    "    def __init__(self, X, y):\n",
    "        self.X = X\n",
    "        self.y = y\n",
    "    \n",
    "    def __len__(self):\n",
    "        return len(self.X)\n",
    "    \n",
    "    def __getitem__(self, idx):\n",
    "        return self.X[idx], self.y[idx]"
   ]
  },
  {
   "cell_type": "code",
   "execution_count": 5,
   "id": "dcff111c",
   "metadata": {},
   "outputs": [],
   "source": [
    "model = CNN().to(device)\n",
    "criterion = nn.CrossEntropyLoss()\n",
    "optimizer = torch.optim.Adam(model.parameters(), lr=learning_rate)"
   ]
  },
  {
   "cell_type": "code",
   "execution_count": 6,
   "id": "b4c25501",
   "metadata": {},
   "outputs": [
    {
     "name": "stdout",
     "output_type": "stream",
     "text": [
      "----------------------------------------------------------------\n",
      "        Layer (type)               Output Shape         Param #\n",
      "================================================================\n",
      "            Conv2d-1           [-1, 32, 28, 28]           2,432\n",
      "         MaxPool2d-2           [-1, 32, 14, 14]               0\n",
      "            Conv2d-3           [-1, 64, 10, 10]          51,264\n",
      "         MaxPool2d-4             [-1, 64, 5, 5]               0\n",
      "            Linear-5                 [-1, 1024]       1,639,424\n",
      "           Dropout-6                 [-1, 1024]               0\n",
      "            Linear-7                   [-1, 10]          10,250\n",
      "================================================================\n",
      "Total params: 1,703,370\n",
      "Trainable params: 1,703,370\n",
      "Non-trainable params: 0\n",
      "----------------------------------------------------------------\n",
      "Input size (MB): 0.01\n",
      "Forward/backward pass size (MB): 0.32\n",
      "Params size (MB): 6.50\n",
      "Estimated Total Size (MB): 6.83\n",
      "----------------------------------------------------------------\n"
     ]
    }
   ],
   "source": [
    "summary(model, input_size=(3, 32, 32))"
   ]
  },
  {
   "cell_type": "code",
   "execution_count": 7,
   "id": "465b5d4a",
   "metadata": {
    "scrolled": true
   },
   "outputs": [
    {
     "name": "stdout",
     "output_type": "stream",
     "text": [
      "Epoch [1/10], Step [100/500], Loss: 1.7792\n",
      "Epoch [1/10], Step [200/500], Loss: 1.6778\n",
      "Epoch [1/10], Step [300/500], Loss: 1.3412\n",
      "Epoch [1/10], Step [400/500], Loss: 1.4960\n",
      "Epoch [1/10], Step [500/500], Loss: 1.2957\n",
      "Epoch [2/10], Step [100/500], Loss: 1.3095\n",
      "Epoch [2/10], Step [200/500], Loss: 1.2094\n",
      "Epoch [2/10], Step [300/500], Loss: 1.3788\n",
      "Epoch [2/10], Step [400/500], Loss: 1.1217\n",
      "Epoch [2/10], Step [500/500], Loss: 1.3395\n",
      "Epoch [3/10], Step [100/500], Loss: 1.0862\n",
      "Epoch [3/10], Step [200/500], Loss: 1.1393\n",
      "Epoch [3/10], Step [300/500], Loss: 1.1342\n",
      "Epoch [3/10], Step [400/500], Loss: 1.0569\n",
      "Epoch [3/10], Step [500/500], Loss: 1.0244\n",
      "Epoch [4/10], Step [100/500], Loss: 1.2155\n",
      "Epoch [4/10], Step [200/500], Loss: 0.9128\n",
      "Epoch [4/10], Step [300/500], Loss: 0.9683\n",
      "Epoch [4/10], Step [400/500], Loss: 0.8472\n",
      "Epoch [4/10], Step [500/500], Loss: 0.9241\n",
      "Epoch [5/10], Step [100/500], Loss: 1.0001\n",
      "Epoch [5/10], Step [200/500], Loss: 1.0537\n",
      "Epoch [5/10], Step [300/500], Loss: 0.9893\n",
      "Epoch [5/10], Step [400/500], Loss: 1.0234\n",
      "Epoch [5/10], Step [500/500], Loss: 1.0754\n",
      "Epoch [6/10], Step [100/500], Loss: 0.9078\n",
      "Epoch [6/10], Step [200/500], Loss: 0.9319\n",
      "Epoch [6/10], Step [300/500], Loss: 0.8450\n",
      "Epoch [6/10], Step [400/500], Loss: 0.8826\n",
      "Epoch [6/10], Step [500/500], Loss: 1.1700\n",
      "Epoch [7/10], Step [100/500], Loss: 0.7274\n",
      "Epoch [7/10], Step [200/500], Loss: 0.7433\n",
      "Epoch [7/10], Step [300/500], Loss: 0.7506\n",
      "Epoch [7/10], Step [400/500], Loss: 0.7503\n",
      "Epoch [7/10], Step [500/500], Loss: 0.7644\n",
      "Epoch [8/10], Step [100/500], Loss: 0.7992\n",
      "Epoch [8/10], Step [200/500], Loss: 0.8533\n",
      "Epoch [8/10], Step [300/500], Loss: 0.7578\n",
      "Epoch [8/10], Step [400/500], Loss: 0.7866\n",
      "Epoch [8/10], Step [500/500], Loss: 0.8029\n",
      "Epoch [9/10], Step [100/500], Loss: 0.7045\n",
      "Epoch [9/10], Step [200/500], Loss: 0.8131\n",
      "Epoch [9/10], Step [300/500], Loss: 0.6860\n",
      "Epoch [9/10], Step [400/500], Loss: 0.7190\n",
      "Epoch [9/10], Step [500/500], Loss: 0.7354\n",
      "Epoch [10/10], Step [100/500], Loss: 0.7730\n",
      "Epoch [10/10], Step [200/500], Loss: 0.7531\n",
      "Epoch [10/10], Step [300/500], Loss: 0.6054\n",
      "Epoch [10/10], Step [400/500], Loss: 0.7153\n",
      "Epoch [10/10], Step [500/500], Loss: 0.6727\n"
     ]
    }
   ],
   "source": [
    "# Training loop\n",
    "total_step = len(train_loader)\n",
    "for epoch in range(num_epochs):\n",
    "    for i, (images, labels) in enumerate(train_loader):\n",
    "        images = images.to(device)\n",
    "        labels = labels.to(device)\n",
    "        outputs = model(images)\n",
    "        loss = criterion(outputs, labels)\n",
    "        optimizer.zero_grad()\n",
    "        loss.backward()\n",
    "        optimizer.step()\n",
    "        \n",
    "        if (i+1) % 100 == 0:\n",
    "            print(f'Epoch [{epoch+1}/{num_epochs}], Step [{i+1}/{total_step}], Loss: {loss.item():.4f}')"
   ]
  },
  {
   "cell_type": "code",
   "execution_count": 8,
   "id": "4485bf5a",
   "metadata": {},
   "outputs": [
    {
     "name": "stdout",
     "output_type": "stream",
     "text": [
      "Test Accuracy of the model on the 10000 test images: 70.48%\n"
     ]
    }
   ],
   "source": [
    "# Test the model\n",
    "model.eval()\n",
    "with torch.no_grad():\n",
    "    correct = 0\n",
    "    total = 0\n",
    "    for images, labels in test_loader:\n",
    "        images = images.to(device)\n",
    "        labels = labels.to(device)\n",
    "        outputs = model(images)\n",
    "        _, predicted = torch.max(outputs.data, 1)\n",
    "        total += labels.size(0)\n",
    "        correct += (predicted == labels).sum().item()\n",
    "\n",
    "    print('Test Accuracy of the model on the 10000 test images: {:.2f}%'.format(correct * 100 / total))"
   ]
  },
  {
   "cell_type": "code",
   "execution_count": null,
   "id": "3ebd2347",
   "metadata": {},
   "outputs": [],
   "source": []
  }
 ],
 "metadata": {
  "kernelspec": {
   "display_name": "Python 3 (ipykernel)",
   "language": "python",
   "name": "python3"
  },
  "language_info": {
   "codemirror_mode": {
    "name": "ipython",
    "version": 3
   },
   "file_extension": ".py",
   "mimetype": "text/x-python",
   "name": "python",
   "nbconvert_exporter": "python",
   "pygments_lexer": "ipython3",
   "version": "3.9.7"
  }
 },
 "nbformat": 4,
 "nbformat_minor": 5
}
