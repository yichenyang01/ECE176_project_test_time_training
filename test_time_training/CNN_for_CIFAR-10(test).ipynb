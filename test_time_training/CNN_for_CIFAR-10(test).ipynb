{
 "cells": [
  {
   "cell_type": "code",
   "execution_count": 1,
   "id": "a61d505a",
   "metadata": {},
   "outputs": [],
   "source": [
    "# Prepare packages\n",
    "import numpy as np\n",
    "import cv2\n",
    "import matplotlib.pyplot as plt\n",
    "import idx2numpy\n",
    "import os\n",
    "\n",
    "import torch\n",
    "import torchvision\n",
    "import torchvision.datasets as datasets\n",
    "import torchvision.transforms as transforms\n",
    "import torch.nn as nn\n",
    "import torch.nn.functional as F\n",
    "import torch.optim as optim\n",
    "from torch.utils.data import Dataset, DataLoader\n",
    "from torchsummary import summary"
   ]
  },
  {
   "cell_type": "code",
   "execution_count": 2,
   "id": "f78cffa8",
   "metadata": {},
   "outputs": [],
   "source": [
    "# Define the device to be used for training\n",
    "device = torch.device(\"cuda\" if torch.cuda.is_available() else \"cpu\")"
   ]
  },
  {
   "cell_type": "code",
   "execution_count": 3,
   "id": "16745ecd",
   "metadata": {},
   "outputs": [],
   "source": [
    "# Prepare data\n",
    "# Hyperparameters\n",
    "num_epochs = 10\n",
    "batch_size = 100\n",
    "learning_rate = 0.001\n",
    "\n",
    "# Dataset\n",
    "train_dataset = torchvision.datasets.CIFAR10(root='../datasets', train=True, \n",
    "                                             transform=transforms.ToTensor())\n",
    "test_dataset = torchvision.datasets.CIFAR10(root='../datasets', train=False, \n",
    "                                            transform=transforms.ToTensor())\n",
    "\n",
    "# Data loader\n",
    "train_loader = torch.utils.data.DataLoader(dataset=train_dataset, \n",
    "                                           batch_size=batch_size, shuffle=True)\n",
    "test_loader = torch.utils.data.DataLoader(dataset=test_dataset, \n",
    "                                          batch_size=batch_size, shuffle=False)"
   ]
  },
  {
   "cell_type": "code",
   "execution_count": 4,
   "id": "2d01f932",
   "metadata": {},
   "outputs": [],
   "source": [
    "# Convolutional neural network (CNN) model\n",
    "class CNN(nn.Module):\n",
    "    def __init__(self):\n",
    "        super(CNN, self).__init__()\n",
    "        self.conv1 = nn.Conv2d(3, 32, 5)\n",
    "        self.pool = nn.MaxPool2d(2, 2)\n",
    "        self.conv2 = nn.Conv2d(32, 64, 5)\n",
    "        self.fc1 = nn.Linear(64 * 5 * 5, 1024)\n",
    "        self.fc2 = nn.Linear(1024, 10)\n",
    "        self.dropout = nn.Dropout(p=0.5)\n",
    "        \n",
    "    def forward(self, x):\n",
    "        x = self.pool(nn.functional.relu(self.conv1(x)))\n",
    "        x = self.pool(nn.functional.relu(self.conv2(x)))\n",
    "        x = x.view(-1, 64 * 5 * 5)\n",
    "        x = nn.functional.relu(self.fc1(x))\n",
    "        x = self.dropout(x)\n",
    "        x = self.fc2(x)\n",
    "        return x\n",
    "    \n",
    "\n",
    "# Define my dataset\n",
    "class MyDataset(Dataset):\n",
    "    def __init__(self, X, y):\n",
    "        self.X = X\n",
    "        self.y = y\n",
    "    \n",
    "    def __len__(self):\n",
    "        return len(self.X)\n",
    "    \n",
    "    def __getitem__(self, idx):\n",
    "        return self.X[idx], self.y[idx]"
   ]
  },
  {
   "cell_type": "code",
   "execution_count": 5,
   "id": "dcff111c",
   "metadata": {},
   "outputs": [],
   "source": [
    "model = CNN().to(device)\n",
    "criterion = nn.CrossEntropyLoss()\n",
    "optimizer = torch.optim.Adam(model.parameters(), lr=learning_rate)"
   ]
  },
  {
   "cell_type": "code",
   "execution_count": 6,
   "id": "b4c25501",
   "metadata": {},
   "outputs": [
    {
     "name": "stdout",
     "output_type": "stream",
     "text": [
      "----------------------------------------------------------------\n",
      "        Layer (type)               Output Shape         Param #\n",
      "================================================================\n",
      "            Conv2d-1           [-1, 32, 28, 28]           2,432\n",
      "         MaxPool2d-2           [-1, 32, 14, 14]               0\n",
      "            Conv2d-3           [-1, 64, 10, 10]          51,264\n",
      "         MaxPool2d-4             [-1, 64, 5, 5]               0\n",
      "            Linear-5                 [-1, 1024]       1,639,424\n",
      "           Dropout-6                 [-1, 1024]               0\n",
      "            Linear-7                   [-1, 10]          10,250\n",
      "================================================================\n",
      "Total params: 1,703,370\n",
      "Trainable params: 1,703,370\n",
      "Non-trainable params: 0\n",
      "----------------------------------------------------------------\n",
      "Input size (MB): 0.01\n",
      "Forward/backward pass size (MB): 0.32\n",
      "Params size (MB): 6.50\n",
      "Estimated Total Size (MB): 6.83\n",
      "----------------------------------------------------------------\n"
     ]
    }
   ],
   "source": [
    "summary(model, input_size=(3, 32, 32))"
   ]
  },
  {
   "cell_type": "code",
   "execution_count": 7,
   "id": "465b5d4a",
   "metadata": {
    "scrolled": true
   },
   "outputs": [
    {
     "name": "stdout",
     "output_type": "stream",
     "text": [
      "Epoch [1/10], Step [100/500], Loss: 1.7130\n",
      "Epoch [1/10], Step [200/500], Loss: 1.5652\n",
      "Epoch [1/10], Step [300/500], Loss: 1.4553\n",
      "Epoch [1/10], Step [400/500], Loss: 1.2032\n",
      "Epoch [1/10], Step [500/500], Loss: 1.3888\n",
      "Epoch [2/10], Step [100/500], Loss: 1.2418\n",
      "Epoch [2/10], Step [200/500], Loss: 1.2485\n",
      "Epoch [2/10], Step [300/500], Loss: 1.1139\n",
      "Epoch [2/10], Step [400/500], Loss: 1.2289\n",
      "Epoch [2/10], Step [500/500], Loss: 1.2635\n",
      "Epoch [3/10], Step [100/500], Loss: 0.9204\n",
      "Epoch [3/10], Step [200/500], Loss: 1.1093\n",
      "Epoch [3/10], Step [300/500], Loss: 0.8955\n",
      "Epoch [3/10], Step [400/500], Loss: 1.1974\n",
      "Epoch [3/10], Step [500/500], Loss: 1.2940\n",
      "Epoch [4/10], Step [100/500], Loss: 1.0626\n",
      "Epoch [4/10], Step [200/500], Loss: 1.0148\n",
      "Epoch [4/10], Step [300/500], Loss: 1.0094\n",
      "Epoch [4/10], Step [400/500], Loss: 0.9446\n",
      "Epoch [4/10], Step [500/500], Loss: 0.8875\n",
      "Epoch [5/10], Step [100/500], Loss: 0.9796\n",
      "Epoch [5/10], Step [200/500], Loss: 0.8993\n",
      "Epoch [5/10], Step [300/500], Loss: 0.8828\n",
      "Epoch [5/10], Step [400/500], Loss: 0.9732\n",
      "Epoch [5/10], Step [500/500], Loss: 0.6465\n",
      "Epoch [6/10], Step [100/500], Loss: 0.9686\n",
      "Epoch [6/10], Step [200/500], Loss: 0.7919\n",
      "Epoch [6/10], Step [300/500], Loss: 0.6914\n",
      "Epoch [6/10], Step [400/500], Loss: 0.8785\n",
      "Epoch [6/10], Step [500/500], Loss: 0.8377\n",
      "Epoch [7/10], Step [100/500], Loss: 0.9204\n",
      "Epoch [7/10], Step [200/500], Loss: 0.8444\n",
      "Epoch [7/10], Step [300/500], Loss: 0.9951\n",
      "Epoch [7/10], Step [400/500], Loss: 0.8376\n",
      "Epoch [7/10], Step [500/500], Loss: 0.9772\n",
      "Epoch [8/10], Step [100/500], Loss: 0.6816\n",
      "Epoch [8/10], Step [200/500], Loss: 0.8098\n",
      "Epoch [8/10], Step [300/500], Loss: 0.7238\n",
      "Epoch [8/10], Step [400/500], Loss: 0.8760\n",
      "Epoch [8/10], Step [500/500], Loss: 0.9930\n",
      "Epoch [9/10], Step [100/500], Loss: 0.6233\n",
      "Epoch [9/10], Step [200/500], Loss: 0.7083\n",
      "Epoch [9/10], Step [300/500], Loss: 0.6847\n",
      "Epoch [9/10], Step [400/500], Loss: 0.8063\n",
      "Epoch [9/10], Step [500/500], Loss: 0.7346\n",
      "Epoch [10/10], Step [100/500], Loss: 0.6487\n",
      "Epoch [10/10], Step [200/500], Loss: 0.7244\n",
      "Epoch [10/10], Step [300/500], Loss: 0.7201\n",
      "Epoch [10/10], Step [400/500], Loss: 0.6421\n",
      "Epoch [10/10], Step [500/500], Loss: 0.6887\n"
     ]
    }
   ],
   "source": [
    "# Training loop\n",
    "total_step = len(train_loader)\n",
    "for epoch in range(num_epochs):\n",
    "    for i, (images, labels) in enumerate(train_loader):\n",
    "        images = images.to(device)\n",
    "        labels = labels.to(device)\n",
    "        outputs = model(images)\n",
    "        loss = criterion(outputs, labels)\n",
    "        optimizer.zero_grad()\n",
    "        loss.backward()\n",
    "        optimizer.step()\n",
    "        \n",
    "        if (i+1) % 100 == 0:\n",
    "            print(f'Epoch [{epoch+1}/{num_epochs}], Step [{i+1}/{total_step}], Loss: {loss.item():.4f}')"
   ]
  },
  {
   "cell_type": "code",
   "execution_count": 8,
   "id": "4485bf5a",
   "metadata": {},
   "outputs": [
    {
     "name": "stdout",
     "output_type": "stream",
     "text": [
      "Test Accuracy of the model on the 10000 test images: 71.46%\n"
     ]
    }
   ],
   "source": [
    "# Test the model\n",
    "model.eval()\n",
    "with torch.no_grad():\n",
    "    correct = 0\n",
    "    total = 0\n",
    "    for images, labels in test_loader:\n",
    "        images = images.to(device)\n",
    "        labels = labels.to(device)\n",
    "        outputs = model(images)\n",
    "        _, predicted = torch.max(outputs.data, 1)\n",
    "        total += labels.size(0)\n",
    "        correct += (predicted == labels).sum().item()\n",
    "\n",
    "    print('Test Accuracy of the model on the 10000 test images: {:.2f}%'.format(correct * 100 / total))"
   ]
  },
  {
   "cell_type": "code",
   "execution_count": null,
   "id": "3ebd2347",
   "metadata": {},
   "outputs": [],
   "source": []
  }
 ],
 "metadata": {
  "kernelspec": {
   "display_name": "Python 3 (ipykernel)",
   "language": "python",
   "name": "python3"
  },
  "language_info": {
   "codemirror_mode": {
    "name": "ipython",
    "version": 3
   },
   "file_extension": ".py",
   "mimetype": "text/x-python",
   "name": "python",
   "nbconvert_exporter": "python",
   "pygments_lexer": "ipython3",
   "version": "3.9.7"
  }
 },
 "nbformat": 4,
 "nbformat_minor": 5
}
