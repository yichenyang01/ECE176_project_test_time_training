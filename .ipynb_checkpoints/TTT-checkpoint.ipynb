{
 "cells": [
  {
   "cell_type": "code",
   "execution_count": 1,
   "metadata": {
    "executionInfo": {
     "elapsed": 302,
     "status": "ok",
     "timestamp": 1679526082090,
     "user": {
      "displayName": "Nihal Azeez",
      "userId": "09620838806378034988"
     },
     "user_tz": 420
    },
    "id": "vDe7O0OLyoUc"
   },
   "outputs": [],
   "source": [
    "# Importing packages\n",
    "import torch\n",
    "import torchvision\n",
    "import torchvision.datasets as datasets\n",
    "import torchvision.transforms as transforms\n",
    "import torch.nn as nn\n",
    "import torch.nn.functional as F\n",
    "import torch.optim as optim\n",
    "from torch.utils.data import Dataset, DataLoader, sampler\n",
    "from torchsummary import summary\n",
    "\n",
    "import copy\n",
    "import numpy as np\n",
    "import cv2\n",
    "import matplotlib.pyplot as plt\n",
    "from PIL import Image\n",
    "\n",
    "import cv2\n",
    "import numpy as np\n",
    "from PIL import Image, ImageFilter, ImageEnhance, ImageDraw"
   ]
  },
  {
   "cell_type": "markdown",
   "metadata": {},
   "source": [
    "## Define functions"
   ]
  },
  {
   "cell_type": "code",
   "execution_count": 2,
   "metadata": {},
   "outputs": [],
   "source": [
    "def add_gaussian_noise(img, mean=0, std=20):\n",
    "    # Create Gaussian noise\n",
    "    noise = np.random.normal(mean, std, img.shape)\n",
    "\n",
    "    # Apply the noise to the input image\n",
    "    img_gn = np.zeros(img.shape)\n",
    "    for i in range(img.shape[2]):\n",
    "        img_gn[:, :, i] = np.clip(img[:, :, i] + noise[:, :, i], 0, 255)\n",
    "\n",
    "    return img_gn.astype(np.uint8)\n",
    "\n",
    "def add_shot_noise(img, lam=100):\n",
    "  \n",
    "    # Create Poisson noise\n",
    "    noise = np.random.poisson(lam, img.shape)\n",
    "\n",
    "    # Apply the noise to the input image\n",
    "    img_sn = np.zeros(img.shape)\n",
    "    for i in range(img.shape[2]):\n",
    "        img_sn[:, :, i] = np.clip(img[:, :, i] + noise[:, :, i], 0, 255)\n",
    "\n",
    "    return img_sn.astype(np.uint8)\n",
    "\n",
    "# Create rotation function \n",
    "def rotate(image, degree=1):\n",
    "    reshape = np.transpose(image, (1, 2, 0))\n",
    "    rot_image = np.rot90(reshape, degree)\n",
    "    return torch.Tensor(np.transpose(rot_image, (2, 0, 1)).copy())\n",
    "\n",
    "# Define my dataset\n",
    "class MyDataset(Dataset):\n",
    "    def __init__(self, X, y):\n",
    "        self.X = X\n",
    "        self.y = y\n",
    "    \n",
    "    def __len__(self):\n",
    "        return len(self.X)\n",
    "    \n",
    "    def __getitem__(self, idx):\n",
    "        return self.X[idx], self.y[idx]"
   ]
  },
  {
   "cell_type": "code",
   "execution_count": null,
   "metadata": {},
   "outputs": [],
   "source": []
  },
  {
   "cell_type": "code",
   "execution_count": 3,
   "metadata": {
    "colab": {
     "base_uri": "https://localhost:8080/"
    },
    "executionInfo": {
     "elapsed": 33,
     "status": "ok",
     "timestamp": 1679526082559,
     "user": {
      "displayName": "Nihal Azeez",
      "userId": "09620838806378034988"
     },
     "user_tz": 420
    },
    "id": "myrpTpS4ONwN",
    "outputId": "f0fc6129-3617-4177-b8cb-cdcb04288cd0"
   },
   "outputs": [
    {
     "data": {
      "text/plain": [
       "device(type='cuda')"
      ]
     },
     "execution_count": 3,
     "metadata": {},
     "output_type": "execute_result"
    }
   ],
   "source": [
    "# Define the device for training\n",
    "device = torch.device(\"cuda\" if torch.cuda.is_available() else \"cpu\")\n",
    "device"
   ]
  },
  {
   "cell_type": "code",
   "execution_count": null,
   "metadata": {
    "colab": {
     "base_uri": "https://localhost:8080/"
    },
    "executionInfo": {
     "elapsed": 21005,
     "status": "ok",
     "timestamp": 1679526103542,
     "user": {
      "displayName": "Nihal Azeez",
      "userId": "09620838806378034988"
     },
     "user_tz": 420
    },
    "id": "d6-hoKINOOXY",
    "outputId": "45f8b418-f371-4e81-b29f-cbf70a01b5c7"
   },
   "outputs": [
    {
     "name": "stdout",
     "output_type": "stream",
     "text": [
      "Downloading http://ai.stanford.edu/~acoates/stl10/stl10_binary.tar.gz to ../datasets\\stl10_binary.tar.gz\n"
     ]
    },
    {
     "data": {
      "application/vnd.jupyter.widget-view+json": {
       "model_id": "5237bcb698d5464b91e621da23001829",
       "version_major": 2,
       "version_minor": 0
      },
      "text/plain": [
       "  0%|          | 0/2640397119 [00:00<?, ?it/s]"
      ]
     },
     "metadata": {},
     "output_type": "display_data"
    }
   ],
   "source": [
    "# Define transformations \n",
    "transform = transforms.Compose([\n",
    "    transforms.RandomCrop(96, padding=4),\n",
    "    transforms.RandomHorizontalFlip(),\n",
    "    transforms.ToTensor(),\n",
    "    transforms.Normalize((0.5, 0.5, 0.5), (0.5, 0.5, 0.5)),\n",
    "])\n",
    "\n",
    "# Load the dataset\n",
    "testset = datasets.STL10(root='../datasets', split='test', download=True, transform=transform)"
   ]
  },
  {
   "cell_type": "code",
   "execution_count": null,
   "metadata": {},
   "outputs": [],
   "source": [
    "testloader = DataLoader(testset, batch_size=1, num_workers=2, shuffle=True)"
   ]
  },
  {
   "cell_type": "code",
   "execution_count": null,
   "metadata": {},
   "outputs": [],
   "source": [
    "for num, batch in enumerate(testloader):\n",
    "    if num > 10:\n",
    "        break\n",
    "    images, labels = batch\n",
    "    print(images.shape, labels)"
   ]
  },
  {
   "cell_type": "code",
   "execution_count": null,
   "metadata": {
    "executionInfo": {
     "elapsed": 18,
     "status": "ok",
     "timestamp": 1679526103543,
     "user": {
      "displayName": "Nihal Azeez",
      "userId": "09620838806378034988"
     },
     "user_tz": 420
    },
    "id": "OqCbiOQrVRR2"
   },
   "outputs": [],
   "source": [
    "test_x = testset.data\n",
    "test_y = testset.labels"
   ]
  },
  {
   "cell_type": "code",
   "execution_count": null,
   "metadata": {
    "executionInfo": {
     "elapsed": 131763,
     "status": "ok",
     "timestamp": 1679526318687,
     "user": {
      "displayName": "Nihal Azeez",
      "userId": "09620838806378034988"
     },
     "user_tz": 420
    },
    "id": "Lmo3DVuXWSJv"
   },
   "outputs": [],
   "source": [
    "# Expand x_test and y_test\n",
    "X_test_gauss = []\n",
    "y_test_gauss = []\n",
    "\n",
    "for (x, y) in testset:\n",
    "    X_test_gauss.append(add_gaussian_noise(x))\n",
    "    y_test_gauss.append(y)"
   ]
  },
  {
   "cell_type": "code",
   "execution_count": null,
   "metadata": {
    "executionInfo": {
     "elapsed": 24,
     "status": "ok",
     "timestamp": 1679526318694,
     "user": {
      "displayName": "Nihal Azeez",
      "userId": "09620838806378034988"
     },
     "user_tz": 420
    },
    "id": "AkIvWbFffMnr"
   },
   "outputs": [],
   "source": [
    "testloader_g = DataLoader(MyDataset(X_test_gauss, y_test_gauss), batch_size=1, num_workers=2, shuffle=True)"
   ]
  },
  {
   "cell_type": "code",
   "execution_count": null,
   "metadata": {
    "executionInfo": {
     "elapsed": 153095,
     "status": "ok",
     "timestamp": 1679526571387,
     "user": {
      "displayName": "Nihal Azeez",
      "userId": "09620838806378034988"
     },
     "user_tz": 420
    },
    "id": "JPzNgrhShtxN"
   },
   "outputs": [],
   "source": [
    "# Expand x_test and y_test\n",
    "X_test_shot = []\n",
    "y_test_shot = []\n",
    "\n",
    "for (x, y) in testset:\n",
    "    X_test_shot.append(add_shot_noise(x))\n",
    "    y_test_shot.append(y)"
   ]
  },
  {
   "cell_type": "code",
   "execution_count": null,
   "metadata": {
    "executionInfo": {
     "elapsed": 29,
     "status": "ok",
     "timestamp": 1679526571388,
     "user": {
      "displayName": "Nihal Azeez",
      "userId": "09620838806378034988"
     },
     "user_tz": 420
    },
    "id": "SJt44tZChuIj"
   },
   "outputs": [],
   "source": [
    "testloader_s = DataLoader(MyDataset(X_test_shot, y_test_shot), batch_size=1, num_workers=2, shuffle=True)"
   ]
  },
  {
   "cell_type": "code",
   "execution_count": null,
   "metadata": {
    "executionInfo": {
     "elapsed": 24,
     "status": "ok",
     "timestamp": 1679526571389,
     "user": {
      "displayName": "Nihal Azeez",
      "userId": "09620838806378034988"
     },
     "user_tz": 420
    },
    "id": "Sd_ke0qyhudo"
   },
   "outputs": [],
   "source": []
  },
  {
   "cell_type": "markdown",
   "metadata": {
    "executionInfo": {
     "elapsed": 22,
     "status": "ok",
     "timestamp": 1679526571390,
     "user": {
      "displayName": "Nihal Azeez",
      "userId": "09620838806378034988"
     },
     "user_tz": 420
    },
    "id": "vHZqdYUqhu4Z"
   },
   "source": [
    "## Load models"
   ]
  },
  {
   "cell_type": "code",
   "execution_count": null,
   "metadata": {},
   "outputs": [],
   "source": [
    "class ResBlock(nn.Module):\n",
    "    def __init__(self, in_channel, out_channel, stride=1, num_block=1):\n",
    "        super(ResBlock, self).__init__()\n",
    "        self.num_block = num_block\n",
    "        self.layers = nn.ModuleList([])\n",
    "        \n",
    "        self.layers.append(nn.Sequential(\n",
    "            nn.Conv2d(in_channel, out_channel, kernel_size=1, stride=stride)\n",
    "        ))\n",
    "        self.layers.append(nn.Sequential  (\n",
    "            nn.Conv2d(in_channel, out_channel, kernel_size=3, padding=1, stride=stride),\n",
    "#             nn.GroupNorm(out_channel//4, out_channel),\n",
    "            nn.BatchNorm2d(out_channel),\n",
    "            nn.ReLU(inplace=True),\n",
    "            nn.Conv2d(out_channel, out_channel, kernel_size=3, padding=1, stride=1),\n",
    "            nn.GroupNorm(out_channel//4, out_channel),\n",
    "            nn.ReLU(inplace=True)\n",
    "        ))\n",
    "        \n",
    "        for _ in range(1, num_block):\n",
    "            self.layers.append(nn.Sequential(\n",
    "                nn.Conv2d(out_channel, out_channel, kernel_size=1, stride=1)\n",
    "            ))\n",
    "            self.layers.append(nn.Sequential(\n",
    "                nn.Conv2d(out_channel, out_channel, kernel_size=3, padding=1, stride=1),\n",
    "#                 nn.GroupNorm(out_channel//4, out_channel),\n",
    "                nn.BatchNorm2d(out_channel),\n",
    "                nn.ReLU(inplace=True),\n",
    "                nn.Conv2d(out_channel, out_channel, kernel_size=3, padding=1, stride=1),\n",
    "#                 nn.GroupNorm(out_channel//4, out_channel),\n",
    "                nn.BatchNorm2d(out_channel),\n",
    "                nn.ReLU(inplace=True)\n",
    "            ))\n",
    "    \n",
    "    def forward(self, x):\n",
    "        for i in range(self.num_block):\n",
    "            x_identity = self.layers[2*i](x)\n",
    "            x = self.layers[2*i+1](x)\n",
    "            x = F.relu(x + x_identity, inplace=True) \n",
    "        \n",
    "        return x\n",
    "\n",
    "class ResNet(nn.Module):\n",
    "    def __init__(self):\n",
    "        super(ResNet, self).__init__()\n",
    "        self.conv1 = nn.Conv2d(3, 32, 3, stride=1, padding=1)\n",
    "#         self.gn1 = nn.GroupNorm(4, 16)\n",
    "        self.bn1 = nn.BatchNorm2d(32)\n",
    "        \n",
    "        self.layers1 = ResBlock(32, 32, num_block=4)\n",
    "        self.layers2 = ResBlock(32, 64, stride=2, num_block=2)\n",
    "        self.layers3 = ResBlock(64, 128, stride=2, num_block=2)\n",
    "        self.layers4 = ResBlock(128, 256, stride=2, num_block=2)\n",
    "        \n",
    "        self.avgpool1 = nn.AdaptiveAvgPool2d((1, 1))\n",
    "        self.fc1 = nn.Linear(256, 10)\n",
    "          \n",
    "    def forward(self, x, theta = None):\n",
    "        x = self.conv1(x)\n",
    "#         x = self.gn1(x)\n",
    "        x = self.bn1(x)\n",
    "        x = F.relu(x, inplace=True)\n",
    "        x = self.layers1(x)\n",
    "        x = self.layers2(x)\n",
    "        \n",
    "        x1 = self.layers3(x)\n",
    "        x1 = self.layers4(x1)\n",
    "        x1 = self.avgpool1(x1)\n",
    "        x1 = x1.view(-1, 256)\n",
    "        x1 = self.fc1(x1)\n",
    "        \n",
    "        return x1\n",
    "\n",
    "\n",
    "class JointResNet(nn.Module):\n",
    "    def __init__(self):\n",
    "        super(JointResNet, self).__init__()\n",
    "        self.conv1 = nn.Conv2d(3, 64, 3, stride=1, padding=1)\n",
    "#         self.gn1 = nn.GroupNorm(4, 16)\n",
    "        self.bn1 = nn.BatchNorm2d(64)\n",
    "        \n",
    "        self.layers1 = ResBlock(64, 64, num_block=2)\n",
    "        self.layers2 = ResBlock(64, 128, stride=2, num_block=2)\n",
    "        self.layers3 = ResBlock(128, 256, stride=2, num_block=2)\n",
    "        self.layers4_1 = ResBlock(256, 512, stride=2, num_block=2)\n",
    "        self.layers4_2 = ResBlock(256, 512, stride=2, num_block=2)\n",
    "        \n",
    "        self.avgpool1 = nn.AdaptiveAvgPool2d((1, 1))\n",
    "        self.fc1 = nn.Linear(512, 10)\n",
    "        \n",
    "        self.avgpool2 = nn.AdaptiveAvgPool2d((1, 1))\n",
    "        self.fc2 = nn.Linear(512, 4)\n",
    "        \n",
    "        \n",
    "    def forward(self, x, theta = None):\n",
    "        x = self.conv1(x)\n",
    "#         x = self.gn1(x)\n",
    "        x = self.bn1(x)\n",
    "        x = F.relu(x, inplace=True)\n",
    "        x = self.layers1(x)\n",
    "        x = self.layers2(x)\n",
    "        x = self.layers3(x)\n",
    "        \n",
    "        x1 = self.layers4_1(x)\n",
    "        x1 = self.avgpool1(x1)\n",
    "        x1 = x1.view(-1, 512)\n",
    "        x1 = self.fc1(x1)\n",
    "        \n",
    "        x2 = self.layers4_2(x)\n",
    "        x2 = self.avgpool2(x2)\n",
    "        x2 = x2.view(-1, 512)\n",
    "        x2 = self.fc2(x2)\n",
    "        return x1, x2  "
   ]
  },
  {
   "cell_type": "code",
   "execution_count": null,
   "metadata": {},
   "outputs": [],
   "source": [
    "# Define the loss functions\n",
    "criterion1 = nn.CrossEntropyLoss()\n",
    "criterion2 = nn.CrossEntropyLoss()\n",
    "\n",
    "# Initialize the model and define optimizer\n",
    "model2 = JointResNet().to(device)\n",
    "optimizer2 = optim.SGD(model2.parameters(), lr=0.1, momentum=0.9, weight_decay=3e-4)\n",
    "scheduler = StepLR(optimizer2, step_size=30, gamma=0.1)"
   ]
  },
  {
   "cell_type": "code",
   "execution_count": null,
   "metadata": {},
   "outputs": [],
   "source": [
    "# load the saved model\n",
    "checkpoint = torch.load('../models/stl_jointresnet.pt')\n",
    "model2.load_state_dict(checkpoint['model_state_dict'])\n",
    "optimizer2.load_state_dict(checkpoint['optimizer_state_dict'])"
   ]
  },
  {
   "cell_type": "code",
   "execution_count": null,
   "metadata": {},
   "outputs": [],
   "source": []
  },
  {
   "cell_type": "markdown",
   "metadata": {},
   "source": [
    "## Test time training"
   ]
  },
  {
   "cell_type": "code",
   "execution_count": null,
   "metadata": {},
   "outputs": [],
   "source": []
  }
 ],
 "metadata": {
  "colab": {
   "authorship_tag": "ABX9TyO+mFsQt4baNTrQB64vV/kP",
   "provenance": []
  },
  "kernelspec": {
   "display_name": "Python 3 (ipykernel)",
   "language": "python",
   "name": "python3"
  },
  "language_info": {
   "codemirror_mode": {
    "name": "ipython",
    "version": 3
   },
   "file_extension": ".py",
   "mimetype": "text/x-python",
   "name": "python",
   "nbconvert_exporter": "python",
   "pygments_lexer": "ipython3",
   "version": "3.9.7"
  }
 },
 "nbformat": 4,
 "nbformat_minor": 1
}
